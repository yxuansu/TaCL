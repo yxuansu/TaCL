{
 "cells": [
  {
   "cell_type": "code",
   "execution_count": 18,
   "id": "d33b1969",
   "metadata": {},
   "outputs": [],
   "source": [
    "import torch\n",
    "import numpy as np\n",
    "import matplotlib\n",
    "import matplotlib.pyplot as plt\n",
    "import matplotlib.pyplot as plt\n",
    "plt.rcParams['font.sans-serif']=['SimHei'] #用来正常显示中文标签\n",
    "plt.rcParams['axes.unicode_minus']=False #用来正常显示负号"
   ]
  },
  {
   "cell_type": "code",
   "execution_count": 2,
   "id": "3b3c9c66",
   "metadata": {},
   "outputs": [],
   "source": [
    "import torch.nn.functional as F\n",
    "def compute_correlation_matrix(model, tokenizer, text):\n",
    "    model = model.eval()\n",
    "    token_list = text.strip('\\n').split()\n",
    "    input_ids = torch.LongTensor(tokenizer.convert_tokens_to_ids(token_list)).view(1,-1)\n",
    "    _, seq_len = input_ids.size()\n",
    "    hidden = model(input_ids).last_hidden_state\n",
    "    #print (hidden.size())\n",
    "    norm_hidden = hidden / hidden.norm(dim=2, keepdim=True)\n",
    "    correlation_matrix = torch.matmul(norm_hidden, norm_hidden.transpose(1,2)).view(seq_len, seq_len)\n",
    "    correlation_matrix = F.softmax(correlation_matrix, dim=-1)\n",
    "    #print (correlation_matrix.size())\n",
    "    return correlation_matrix.detach().numpy()"
   ]
  },
  {
   "cell_type": "code",
   "execution_count": 3,
   "id": "4a343702",
   "metadata": {},
   "outputs": [],
   "source": [
    "def plot_heatmap(matrix, text):\n",
    "    token_list = text.strip('\\n').split()\n",
    "    x_ticks = token_list\n",
    "    y_ticks = token_list\n",
    "    \n",
    "    fig, ax = plt.subplots()\n",
    "    im = ax.imshow(matrix)\n",
    "\n",
    "    ax.set_xticks(np.arange(len(x_ticks)))\n",
    "    ax.set_yticks(np.arange(len(x_ticks)))\n",
    "    ax.set_xticklabels(x_ticks)\n",
    "    ax.set_yticklabels(x_ticks)\n",
    "\n",
    "    plt.setp(ax.get_xticklabels(), rotation=90, ha=\"right\",\n",
    "             rotation_mode=\"anchor\")\n",
    "\n",
    "    fig.tight_layout()\n",
    "    plt.show()"
   ]
  },
  {
   "cell_type": "code",
   "execution_count": 4,
   "id": "9edc56aa",
   "metadata": {},
   "outputs": [],
   "source": [
    "def visualize_instance(model, tokenizer, text):\n",
    "    text = '[CLS] ' + text + ' [SEP]'\n",
    "    correlation_matrix = compute_correlation_matrix(model, tokenizer, text)\n",
    "    plot_heatmap(correlation_matrix, text)"
   ]
  },
  {
   "cell_type": "markdown",
   "id": "255e1891",
   "metadata": {},
   "source": [
    "# load sampled wiki sentences"
   ]
  },
  {
   "cell_type": "code",
   "execution_count": 5,
   "id": "65aa343e",
   "metadata": {},
   "outputs": [],
   "source": [
    "in_f = r'./chinese_wiki_500_lines.txt'\n",
    "with open(in_f, 'r', encoding = 'utf8') as i:\n",
    "    lines = i.readlines()"
   ]
  },
  {
   "cell_type": "code",
   "execution_count": 8,
   "id": "324f58df",
   "metadata": {},
   "outputs": [],
   "source": [
    "from transformers import BertModel, BertTokenizer"
   ]
  },
  {
   "cell_type": "markdown",
   "id": "438399a0",
   "metadata": {},
   "source": [
    "# load bert base model"
   ]
  },
  {
   "cell_type": "code",
   "execution_count": 9,
   "id": "b03c4a77",
   "metadata": {},
   "outputs": [],
   "source": [
    "model_name = 'bert-base-chinese'\n",
    "bert_model = BertModel.from_pretrained(model_name)\n",
    "tokenizer = BertTokenizer.from_pretrained(model_name)"
   ]
  },
  {
   "cell_type": "markdown",
   "id": "5bcd059f",
   "metadata": {},
   "source": [
    "# load clbert model"
   ]
  },
  {
   "cell_type": "code",
   "execution_count": 11,
   "id": "93f931b8",
   "metadata": {
    "scrolled": true
   },
   "outputs": [],
   "source": [
    "model_name = 'cambridgeltl/clbert-base-chinese'\n",
    "clbert_model = BertModel.from_pretrained(model_name)\n",
    "cl_tokenizer = BertTokenizer.from_pretrained(model_name)"
   ]
  },
  {
   "cell_type": "markdown",
   "id": "89e8d88c",
   "metadata": {},
   "source": [
    "# select a text"
   ]
  },
  {
   "cell_type": "code",
   "execution_count": 22,
   "id": "ffa65da1",
   "metadata": {},
   "outputs": [
    {
     "name": "stdout",
     "output_type": "stream",
     "text": [
      "西 方 语 言 中 “ 数 学 ” （ ） 一 词 源 自 于 古 希 腊 语 的 （ ） ， 其 有 “ 学 习 ” 、 “ 学 问 ” 、 “ 科 学 ” ， 以 及 另 外 还 有 个 较 狭 义 且 技 术 性 的 意 思 － 「 数 学 研 究 」 ， 即 使 在 其 语 源 内 。\n"
     ]
    }
   ],
   "source": [
    "idx = 12\n",
    "text = lines[idx].strip('\\n')\n",
    "print (text)"
   ]
  },
  {
   "cell_type": "markdown",
   "id": "e9a16080",
   "metadata": {},
   "source": [
    "# bert base model result"
   ]
  },
  {
   "cell_type": "code",
   "execution_count": 23,
   "id": "46f9b72b",
   "metadata": {},
   "outputs": [
    {
     "name": "stderr",
     "output_type": "stream",
     "text": [
      "/Users/suyixuan/.virtualenvs/py3torcht5/lib/python3.8/site-packages/matplotlib/backends/backend_agg.py:240: RuntimeWarning: Glyph 35199 missing from current font.\n",
      "  font.set_text(s, 0.0, flags=flags)\n",
      "/Users/suyixuan/.virtualenvs/py3torcht5/lib/python3.8/site-packages/matplotlib/backends/backend_agg.py:240: RuntimeWarning: Glyph 26041 missing from current font.\n",
      "  font.set_text(s, 0.0, flags=flags)\n",
      "/Users/suyixuan/.virtualenvs/py3torcht5/lib/python3.8/site-packages/matplotlib/backends/backend_agg.py:240: RuntimeWarning: Glyph 35821 missing from current font.\n",
      "  font.set_text(s, 0.0, flags=flags)\n",
      "/Users/suyixuan/.virtualenvs/py3torcht5/lib/python3.8/site-packages/matplotlib/backends/backend_agg.py:240: RuntimeWarning: Glyph 35328 missing from current font.\n",
      "  font.set_text(s, 0.0, flags=flags)\n",
      "/Users/suyixuan/.virtualenvs/py3torcht5/lib/python3.8/site-packages/matplotlib/backends/backend_agg.py:240: RuntimeWarning: Glyph 65288 missing from current font.\n",
      "  font.set_text(s, 0.0, flags=flags)\n",
      "/Users/suyixuan/.virtualenvs/py3torcht5/lib/python3.8/site-packages/matplotlib/backends/backend_agg.py:240: RuntimeWarning: Glyph 65289 missing from current font.\n",
      "  font.set_text(s, 0.0, flags=flags)\n",
      "/Users/suyixuan/.virtualenvs/py3torcht5/lib/python3.8/site-packages/matplotlib/backends/backend_agg.py:240: RuntimeWarning: Glyph 19968 missing from current font.\n",
      "  font.set_text(s, 0.0, flags=flags)\n",
      "/Users/suyixuan/.virtualenvs/py3torcht5/lib/python3.8/site-packages/matplotlib/backends/backend_agg.py:240: RuntimeWarning: Glyph 35789 missing from current font.\n",
      "  font.set_text(s, 0.0, flags=flags)\n",
      "/Users/suyixuan/.virtualenvs/py3torcht5/lib/python3.8/site-packages/matplotlib/backends/backend_agg.py:240: RuntimeWarning: Glyph 28304 missing from current font.\n",
      "  font.set_text(s, 0.0, flags=flags)\n",
      "/Users/suyixuan/.virtualenvs/py3torcht5/lib/python3.8/site-packages/matplotlib/backends/backend_agg.py:240: RuntimeWarning: Glyph 33258 missing from current font.\n",
      "  font.set_text(s, 0.0, flags=flags)\n",
      "/Users/suyixuan/.virtualenvs/py3torcht5/lib/python3.8/site-packages/matplotlib/backends/backend_agg.py:240: RuntimeWarning: Glyph 20110 missing from current font.\n",
      "  font.set_text(s, 0.0, flags=flags)\n",
      "/Users/suyixuan/.virtualenvs/py3torcht5/lib/python3.8/site-packages/matplotlib/backends/backend_agg.py:240: RuntimeWarning: Glyph 21476 missing from current font.\n",
      "  font.set_text(s, 0.0, flags=flags)\n",
      "/Users/suyixuan/.virtualenvs/py3torcht5/lib/python3.8/site-packages/matplotlib/backends/backend_agg.py:240: RuntimeWarning: Glyph 24076 missing from current font.\n",
      "  font.set_text(s, 0.0, flags=flags)\n",
      "/Users/suyixuan/.virtualenvs/py3torcht5/lib/python3.8/site-packages/matplotlib/backends/backend_agg.py:240: RuntimeWarning: Glyph 33098 missing from current font.\n",
      "  font.set_text(s, 0.0, flags=flags)\n",
      "/Users/suyixuan/.virtualenvs/py3torcht5/lib/python3.8/site-packages/matplotlib/backends/backend_agg.py:240: RuntimeWarning: Glyph 26377 missing from current font.\n",
      "  font.set_text(s, 0.0, flags=flags)\n",
      "/Users/suyixuan/.virtualenvs/py3torcht5/lib/python3.8/site-packages/matplotlib/backends/backend_agg.py:240: RuntimeWarning: Glyph 20064 missing from current font.\n",
      "  font.set_text(s, 0.0, flags=flags)\n",
      "/Users/suyixuan/.virtualenvs/py3torcht5/lib/python3.8/site-packages/matplotlib/backends/backend_agg.py:240: RuntimeWarning: Glyph 12289 missing from current font.\n",
      "  font.set_text(s, 0.0, flags=flags)\n",
      "/Users/suyixuan/.virtualenvs/py3torcht5/lib/python3.8/site-packages/matplotlib/backends/backend_agg.py:240: RuntimeWarning: Glyph 38382 missing from current font.\n",
      "  font.set_text(s, 0.0, flags=flags)\n",
      "/Users/suyixuan/.virtualenvs/py3torcht5/lib/python3.8/site-packages/matplotlib/backends/backend_agg.py:240: RuntimeWarning: Glyph 31185 missing from current font.\n",
      "  font.set_text(s, 0.0, flags=flags)\n",
      "/Users/suyixuan/.virtualenvs/py3torcht5/lib/python3.8/site-packages/matplotlib/backends/backend_agg.py:240: RuntimeWarning: Glyph 21450 missing from current font.\n",
      "  font.set_text(s, 0.0, flags=flags)\n",
      "/Users/suyixuan/.virtualenvs/py3torcht5/lib/python3.8/site-packages/matplotlib/backends/backend_agg.py:240: RuntimeWarning: Glyph 21478 missing from current font.\n",
      "  font.set_text(s, 0.0, flags=flags)\n",
      "/Users/suyixuan/.virtualenvs/py3torcht5/lib/python3.8/site-packages/matplotlib/backends/backend_agg.py:240: RuntimeWarning: Glyph 22806 missing from current font.\n",
      "  font.set_text(s, 0.0, flags=flags)\n",
      "/Users/suyixuan/.virtualenvs/py3torcht5/lib/python3.8/site-packages/matplotlib/backends/backend_agg.py:240: RuntimeWarning: Glyph 36824 missing from current font.\n",
      "  font.set_text(s, 0.0, flags=flags)\n",
      "/Users/suyixuan/.virtualenvs/py3torcht5/lib/python3.8/site-packages/matplotlib/backends/backend_agg.py:240: RuntimeWarning: Glyph 20010 missing from current font.\n",
      "  font.set_text(s, 0.0, flags=flags)\n",
      "/Users/suyixuan/.virtualenvs/py3torcht5/lib/python3.8/site-packages/matplotlib/backends/backend_agg.py:240: RuntimeWarning: Glyph 36739 missing from current font.\n",
      "  font.set_text(s, 0.0, flags=flags)\n",
      "/Users/suyixuan/.virtualenvs/py3torcht5/lib/python3.8/site-packages/matplotlib/backends/backend_agg.py:240: RuntimeWarning: Glyph 29421 missing from current font.\n",
      "  font.set_text(s, 0.0, flags=flags)\n",
      "/Users/suyixuan/.virtualenvs/py3torcht5/lib/python3.8/site-packages/matplotlib/backends/backend_agg.py:240: RuntimeWarning: Glyph 20041 missing from current font.\n",
      "  font.set_text(s, 0.0, flags=flags)\n",
      "/Users/suyixuan/.virtualenvs/py3torcht5/lib/python3.8/site-packages/matplotlib/backends/backend_agg.py:240: RuntimeWarning: Glyph 19988 missing from current font.\n",
      "  font.set_text(s, 0.0, flags=flags)\n",
      "/Users/suyixuan/.virtualenvs/py3torcht5/lib/python3.8/site-packages/matplotlib/backends/backend_agg.py:240: RuntimeWarning: Glyph 25216 missing from current font.\n",
      "  font.set_text(s, 0.0, flags=flags)\n",
      "/Users/suyixuan/.virtualenvs/py3torcht5/lib/python3.8/site-packages/matplotlib/backends/backend_agg.py:240: RuntimeWarning: Glyph 26415 missing from current font.\n",
      "  font.set_text(s, 0.0, flags=flags)\n",
      "/Users/suyixuan/.virtualenvs/py3torcht5/lib/python3.8/site-packages/matplotlib/backends/backend_agg.py:240: RuntimeWarning: Glyph 24847 missing from current font.\n",
      "  font.set_text(s, 0.0, flags=flags)\n",
      "/Users/suyixuan/.virtualenvs/py3torcht5/lib/python3.8/site-packages/matplotlib/backends/backend_agg.py:240: RuntimeWarning: Glyph 24605 missing from current font.\n",
      "  font.set_text(s, 0.0, flags=flags)\n",
      "/Users/suyixuan/.virtualenvs/py3torcht5/lib/python3.8/site-packages/matplotlib/backends/backend_agg.py:240: RuntimeWarning: Glyph 65293 missing from current font.\n",
      "  font.set_text(s, 0.0, flags=flags)\n",
      "/Users/suyixuan/.virtualenvs/py3torcht5/lib/python3.8/site-packages/matplotlib/backends/backend_agg.py:240: RuntimeWarning: Glyph 12300 missing from current font.\n",
      "  font.set_text(s, 0.0, flags=flags)\n",
      "/Users/suyixuan/.virtualenvs/py3torcht5/lib/python3.8/site-packages/matplotlib/backends/backend_agg.py:240: RuntimeWarning: Glyph 12301 missing from current font.\n",
      "  font.set_text(s, 0.0, flags=flags)\n",
      "/Users/suyixuan/.virtualenvs/py3torcht5/lib/python3.8/site-packages/matplotlib/backends/backend_agg.py:240: RuntimeWarning: Glyph 21363 missing from current font.\n",
      "  font.set_text(s, 0.0, flags=flags)\n",
      "/Users/suyixuan/.virtualenvs/py3torcht5/lib/python3.8/site-packages/matplotlib/backends/backend_agg.py:240: RuntimeWarning: Glyph 20351 missing from current font.\n",
      "  font.set_text(s, 0.0, flags=flags)\n",
      "/Users/suyixuan/.virtualenvs/py3torcht5/lib/python3.8/site-packages/matplotlib/backends/backend_agg.py:240: RuntimeWarning: Glyph 22312 missing from current font.\n",
      "  font.set_text(s, 0.0, flags=flags)\n",
      "/Users/suyixuan/.virtualenvs/py3torcht5/lib/python3.8/site-packages/matplotlib/backends/backend_agg.py:203: RuntimeWarning: Glyph 35199 missing from current font.\n",
      "  font.set_text(s, 0, flags=flags)\n",
      "/Users/suyixuan/.virtualenvs/py3torcht5/lib/python3.8/site-packages/matplotlib/backends/backend_agg.py:203: RuntimeWarning: Glyph 26041 missing from current font.\n",
      "  font.set_text(s, 0, flags=flags)\n",
      "/Users/suyixuan/.virtualenvs/py3torcht5/lib/python3.8/site-packages/matplotlib/backends/backend_agg.py:203: RuntimeWarning: Glyph 35821 missing from current font.\n",
      "  font.set_text(s, 0, flags=flags)\n",
      "/Users/suyixuan/.virtualenvs/py3torcht5/lib/python3.8/site-packages/matplotlib/backends/backend_agg.py:203: RuntimeWarning: Glyph 35328 missing from current font.\n",
      "  font.set_text(s, 0, flags=flags)\n",
      "/Users/suyixuan/.virtualenvs/py3torcht5/lib/python3.8/site-packages/matplotlib/backends/backend_agg.py:203: RuntimeWarning: Glyph 65288 missing from current font.\n",
      "  font.set_text(s, 0, flags=flags)\n",
      "/Users/suyixuan/.virtualenvs/py3torcht5/lib/python3.8/site-packages/matplotlib/backends/backend_agg.py:203: RuntimeWarning: Glyph 65289 missing from current font.\n",
      "  font.set_text(s, 0, flags=flags)\n",
      "/Users/suyixuan/.virtualenvs/py3torcht5/lib/python3.8/site-packages/matplotlib/backends/backend_agg.py:203: RuntimeWarning: Glyph 19968 missing from current font.\n",
      "  font.set_text(s, 0, flags=flags)\n",
      "/Users/suyixuan/.virtualenvs/py3torcht5/lib/python3.8/site-packages/matplotlib/backends/backend_agg.py:203: RuntimeWarning: Glyph 35789 missing from current font.\n",
      "  font.set_text(s, 0, flags=flags)\n",
      "/Users/suyixuan/.virtualenvs/py3torcht5/lib/python3.8/site-packages/matplotlib/backends/backend_agg.py:203: RuntimeWarning: Glyph 28304 missing from current font.\n",
      "  font.set_text(s, 0, flags=flags)\n",
      "/Users/suyixuan/.virtualenvs/py3torcht5/lib/python3.8/site-packages/matplotlib/backends/backend_agg.py:203: RuntimeWarning: Glyph 33258 missing from current font.\n",
      "  font.set_text(s, 0, flags=flags)\n",
      "/Users/suyixuan/.virtualenvs/py3torcht5/lib/python3.8/site-packages/matplotlib/backends/backend_agg.py:203: RuntimeWarning: Glyph 20110 missing from current font.\n",
      "  font.set_text(s, 0, flags=flags)\n",
      "/Users/suyixuan/.virtualenvs/py3torcht5/lib/python3.8/site-packages/matplotlib/backends/backend_agg.py:203: RuntimeWarning: Glyph 21476 missing from current font.\n",
      "  font.set_text(s, 0, flags=flags)\n",
      "/Users/suyixuan/.virtualenvs/py3torcht5/lib/python3.8/site-packages/matplotlib/backends/backend_agg.py:203: RuntimeWarning: Glyph 24076 missing from current font.\n",
      "  font.set_text(s, 0, flags=flags)\n",
      "/Users/suyixuan/.virtualenvs/py3torcht5/lib/python3.8/site-packages/matplotlib/backends/backend_agg.py:203: RuntimeWarning: Glyph 33098 missing from current font.\n",
      "  font.set_text(s, 0, flags=flags)\n",
      "/Users/suyixuan/.virtualenvs/py3torcht5/lib/python3.8/site-packages/matplotlib/backends/backend_agg.py:203: RuntimeWarning: Glyph 26377 missing from current font.\n",
      "  font.set_text(s, 0, flags=flags)\n",
      "/Users/suyixuan/.virtualenvs/py3torcht5/lib/python3.8/site-packages/matplotlib/backends/backend_agg.py:203: RuntimeWarning: Glyph 20064 missing from current font.\n",
      "  font.set_text(s, 0, flags=flags)\n",
      "/Users/suyixuan/.virtualenvs/py3torcht5/lib/python3.8/site-packages/matplotlib/backends/backend_agg.py:203: RuntimeWarning: Glyph 12289 missing from current font.\n",
      "  font.set_text(s, 0, flags=flags)\n",
      "/Users/suyixuan/.virtualenvs/py3torcht5/lib/python3.8/site-packages/matplotlib/backends/backend_agg.py:203: RuntimeWarning: Glyph 38382 missing from current font.\n",
      "  font.set_text(s, 0, flags=flags)\n",
      "/Users/suyixuan/.virtualenvs/py3torcht5/lib/python3.8/site-packages/matplotlib/backends/backend_agg.py:203: RuntimeWarning: Glyph 31185 missing from current font.\n",
      "  font.set_text(s, 0, flags=flags)\n",
      "/Users/suyixuan/.virtualenvs/py3torcht5/lib/python3.8/site-packages/matplotlib/backends/backend_agg.py:203: RuntimeWarning: Glyph 21450 missing from current font.\n",
      "  font.set_text(s, 0, flags=flags)\n",
      "/Users/suyixuan/.virtualenvs/py3torcht5/lib/python3.8/site-packages/matplotlib/backends/backend_agg.py:203: RuntimeWarning: Glyph 21478 missing from current font.\n",
      "  font.set_text(s, 0, flags=flags)\n",
      "/Users/suyixuan/.virtualenvs/py3torcht5/lib/python3.8/site-packages/matplotlib/backends/backend_agg.py:203: RuntimeWarning: Glyph 22806 missing from current font.\n",
      "  font.set_text(s, 0, flags=flags)\n",
      "/Users/suyixuan/.virtualenvs/py3torcht5/lib/python3.8/site-packages/matplotlib/backends/backend_agg.py:203: RuntimeWarning: Glyph 36824 missing from current font.\n",
      "  font.set_text(s, 0, flags=flags)\n",
      "/Users/suyixuan/.virtualenvs/py3torcht5/lib/python3.8/site-packages/matplotlib/backends/backend_agg.py:203: RuntimeWarning: Glyph 20010 missing from current font.\n",
      "  font.set_text(s, 0, flags=flags)\n",
      "/Users/suyixuan/.virtualenvs/py3torcht5/lib/python3.8/site-packages/matplotlib/backends/backend_agg.py:203: RuntimeWarning: Glyph 36739 missing from current font.\n",
      "  font.set_text(s, 0, flags=flags)\n",
      "/Users/suyixuan/.virtualenvs/py3torcht5/lib/python3.8/site-packages/matplotlib/backends/backend_agg.py:203: RuntimeWarning: Glyph 29421 missing from current font.\n",
      "  font.set_text(s, 0, flags=flags)\n",
      "/Users/suyixuan/.virtualenvs/py3torcht5/lib/python3.8/site-packages/matplotlib/backends/backend_agg.py:203: RuntimeWarning: Glyph 20041 missing from current font.\n",
      "  font.set_text(s, 0, flags=flags)\n",
      "/Users/suyixuan/.virtualenvs/py3torcht5/lib/python3.8/site-packages/matplotlib/backends/backend_agg.py:203: RuntimeWarning: Glyph 19988 missing from current font.\n",
      "  font.set_text(s, 0, flags=flags)\n",
      "/Users/suyixuan/.virtualenvs/py3torcht5/lib/python3.8/site-packages/matplotlib/backends/backend_agg.py:203: RuntimeWarning: Glyph 25216 missing from current font.\n",
      "  font.set_text(s, 0, flags=flags)\n",
      "/Users/suyixuan/.virtualenvs/py3torcht5/lib/python3.8/site-packages/matplotlib/backends/backend_agg.py:203: RuntimeWarning: Glyph 26415 missing from current font.\n",
      "  font.set_text(s, 0, flags=flags)\n",
      "/Users/suyixuan/.virtualenvs/py3torcht5/lib/python3.8/site-packages/matplotlib/backends/backend_agg.py:203: RuntimeWarning: Glyph 24847 missing from current font.\n",
      "  font.set_text(s, 0, flags=flags)\n",
      "/Users/suyixuan/.virtualenvs/py3torcht5/lib/python3.8/site-packages/matplotlib/backends/backend_agg.py:203: RuntimeWarning: Glyph 24605 missing from current font.\n",
      "  font.set_text(s, 0, flags=flags)\n",
      "/Users/suyixuan/.virtualenvs/py3torcht5/lib/python3.8/site-packages/matplotlib/backends/backend_agg.py:203: RuntimeWarning: Glyph 65293 missing from current font.\n",
      "  font.set_text(s, 0, flags=flags)\n",
      "/Users/suyixuan/.virtualenvs/py3torcht5/lib/python3.8/site-packages/matplotlib/backends/backend_agg.py:203: RuntimeWarning: Glyph 12300 missing from current font.\n",
      "  font.set_text(s, 0, flags=flags)\n",
      "/Users/suyixuan/.virtualenvs/py3torcht5/lib/python3.8/site-packages/matplotlib/backends/backend_agg.py:203: RuntimeWarning: Glyph 12301 missing from current font.\n",
      "  font.set_text(s, 0, flags=flags)\n",
      "/Users/suyixuan/.virtualenvs/py3torcht5/lib/python3.8/site-packages/matplotlib/backends/backend_agg.py:203: RuntimeWarning: Glyph 21363 missing from current font.\n",
      "  font.set_text(s, 0, flags=flags)\n",
      "/Users/suyixuan/.virtualenvs/py3torcht5/lib/python3.8/site-packages/matplotlib/backends/backend_agg.py:203: RuntimeWarning: Glyph 20351 missing from current font.\n",
      "  font.set_text(s, 0, flags=flags)\n",
      "/Users/suyixuan/.virtualenvs/py3torcht5/lib/python3.8/site-packages/matplotlib/backends/backend_agg.py:203: RuntimeWarning: Glyph 22312 missing from current font.\n",
      "  font.set_text(s, 0, flags=flags)\n"
     ]
    },
    {
     "data": {
      "image/png": "[encoded data removed]",
      "text/plain": [
       "<Figure size 432x288 with 1 Axes>"
      ]
     },
     "metadata": {
      "needs_background": "light"
     },
     "output_type": "display_data"
    }
   ],
   "source": [
    "visualize_instance(bert_model, tokenizer, text)"
   ]
  },
  {
   "cell_type": "markdown",
   "id": "f472853c",
   "metadata": {},
   "source": [
    "# clbert base model result"
   ]
  },
  {
   "cell_type": "code",
   "execution_count": 24,
   "id": "faaa4dc6",
   "metadata": {},
   "outputs": [
    {
     "data": {
      "image/png": "[encoded data removed]",
      "text/plain": [
       "<Figure size 432x288 with 1 Axes>"
      ]
     },
     "metadata": {
      "needs_background": "light"
     },
     "output_type": "display_data"
    }
   ],
   "source": [
    "visualize_instance(clbert_model, cl_tokenizer, text)"
   ]
  },
  {
   "cell_type": "code",
   "execution_count": null,
   "id": "0c761303",
   "metadata": {},
   "outputs": [],
   "source": []
  }
 ],
 "metadata": {
  "kernelspec": {
   "display_name": "Python 3",
   "language": "python",
   "name": "python3"
  },
  "language_info": {
   "codemirror_mode": {
    "name": "ipython",
    "version": 3
   },
   "file_extension": ".py",
   "mimetype": "text/x-python",
   "name": "python",
   "nbconvert_exporter": "python",
   "pygments_lexer": "ipython3",
   "version": "3.8.2"
  }
 },
 "nbformat": 4,
 "nbformat_minor": 5
}
